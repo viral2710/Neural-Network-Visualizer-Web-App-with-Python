{
 "cells": [
  {
   "cell_type": "markdown",
   "metadata": {},
   "source": [
    "# Import Libraries"
   ]
  },
  {
   "cell_type": "code",
   "execution_count": 19,
   "metadata": {},
   "outputs": [],
   "source": [
    "%matplotlib inline\n",
    "\n",
    "import tensorflow as tf\n",
    "import numpy as np\n",
    "import matplotlib.pyplot as plt"
   ]
  },
  {
   "cell_type": "markdown",
   "metadata": {},
   "source": [
    "\n",
    "# Download Data"
   ]
  },
  {
   "cell_type": "code",
   "execution_count": 20,
   "metadata": {},
   "outputs": [],
   "source": [
    "(x_train,y_train),(x_test,y_test)=tf.keras.datasets.mnist.load_data()"
   ]
  },
  {
   "cell_type": "markdown",
   "metadata": {},
   "source": [
    "# Plot Examples"
   ]
  },
  {
   "cell_type": "code",
   "execution_count": 3,
   "metadata": {},
   "outputs": [
    {
     "data": {
      "image/png": "[encoded data removed]",
      "text/plain": [
       "<Figure size 720x720 with 16 Axes>"
      ]
     },
     "metadata": {
      "needs_background": "light"
     },
     "output_type": "display_data"
    }
   ],
   "source": [
    "plt.figure(figsize=(10,10))\n",
    "\n",
    "for i in range(0,16):\n",
    "    plt.subplot(4,4,i+1)\n",
    "    plt.imshow(x_train[i],cmap='binary')\n",
    "    plt.xlabel(str(y_train[i]))\n",
    "    plt.xticks([])\n",
    "    plt.xticks([])\n",
    "plt.show()"
   ]
  },
  {
   "cell_type": "markdown",
   "metadata": {},
   "source": [
    "# Normalize Data"
   ]
  },
  {
   "cell_type": "code",
   "execution_count": 4,
   "metadata": {},
   "outputs": [
    {
     "data": {
      "text/plain": [
       "(60000, 784)"
      ]
     },
     "execution_count": 4,
     "metadata": {},
     "output_type": "execute_result"
    }
   ],
   "source": [
    "x_train=np.reshape(x_train,(60000,28*28))\n",
    "x_test=np.reshape(x_test,(10000,28*28))\n",
    "\n",
    "x_train=x_train/255.\n",
    "x_test=x_test/255.\n",
    "x_train.shape"
   ]
  },
  {
   "cell_type": "markdown",
   "metadata": {},
   "source": [
    "# Create a Neural Network Model"
   ]
  },
  {
   "cell_type": "code",
   "execution_count": 5,
   "metadata": {},
   "outputs": [],
   "source": [
    "model=tf.keras.models.Sequential([\n",
    "    tf.keras.layers.Dense(32,activation='sigmoid',input_shape=(784,)),\n",
    "    tf.keras.layers.Dense(32,activation='sigmoid'),\n",
    "    tf.keras.layers.Dense(10,activation='softmax')\n",
    "    \n",
    "])\n",
    "\n",
    "model.compile(\n",
    "    loss='sparse_categorical_crossentropy',\n",
    "    optimizer='adam',\n",
    "    metrics=['accuracy']\n",
    ")"
   ]
  },
  {
   "cell_type": "markdown",
   "metadata": {},
   "source": [
    "# Train the Model"
   ]
  },
  {
   "cell_type": "code",
   "execution_count": 6,
   "metadata": {},
   "outputs": [
    {
     "name": "stdout",
     "output_type": "stream",
     "text": [
      "Epoch 1/20\n",
      "59/59 - 2s - loss: 2.1746 - accuracy: 0.4300 - val_loss: 1.9678 - val_accuracy: 0.6401\n",
      "Epoch 2/20\n",
      "59/59 - 1s - loss: 1.7621 - accuracy: 0.6913 - val_loss: 1.5278 - val_accuracy: 0.7451\n",
      "Epoch 3/20\n",
      "59/59 - 1s - loss: 1.3428 - accuracy: 0.7613 - val_loss: 1.1534 - val_accuracy: 0.7904\n",
      "Epoch 4/20\n",
      "59/59 - 1s - loss: 1.0265 - accuracy: 0.8045 - val_loss: 0.8938 - val_accuracy: 0.8356\n",
      "Epoch 5/20\n",
      "59/59 - 1s - loss: 0.8073 - accuracy: 0.8482 - val_loss: 0.7129 - val_accuracy: 0.8684\n",
      "Epoch 6/20\n",
      "59/59 - 1s - loss: 0.6531 - accuracy: 0.8732 - val_loss: 0.5856 - val_accuracy: 0.8867\n",
      "Epoch 7/20\n",
      "59/59 - 1s - loss: 0.5438 - accuracy: 0.8894 - val_loss: 0.4969 - val_accuracy: 0.8966\n",
      "Epoch 8/20\n",
      "59/59 - 1s - loss: 0.4671 - accuracy: 0.8997 - val_loss: 0.4335 - val_accuracy: 0.9036\n",
      "Epoch 9/20\n",
      "59/59 - 1s - loss: 0.4121 - accuracy: 0.9063 - val_loss: 0.3884 - val_accuracy: 0.9098\n",
      "Epoch 10/20\n",
      "59/59 - 1s - loss: 0.3717 - accuracy: 0.9123 - val_loss: 0.3547 - val_accuracy: 0.9149\n",
      "Epoch 11/20\n",
      "59/59 - 1s - loss: 0.3407 - accuracy: 0.9162 - val_loss: 0.3298 - val_accuracy: 0.9182\n",
      "Epoch 12/20\n",
      "59/59 - 1s - loss: 0.3170 - accuracy: 0.9202 - val_loss: 0.3088 - val_accuracy: 0.9199\n",
      "Epoch 13/20\n",
      "59/59 - 1s - loss: 0.2977 - accuracy: 0.9235 - val_loss: 0.2913 - val_accuracy: 0.9233\n",
      "Epoch 14/20\n",
      "59/59 - 1s - loss: 0.2812 - accuracy: 0.9267 - val_loss: 0.2789 - val_accuracy: 0.9263\n",
      "Epoch 15/20\n",
      "59/59 - 1s - loss: 0.2674 - accuracy: 0.9290 - val_loss: 0.2670 - val_accuracy: 0.9284\n",
      "Epoch 16/20\n",
      "59/59 - 1s - loss: 0.2556 - accuracy: 0.9320 - val_loss: 0.2564 - val_accuracy: 0.9300\n",
      "Epoch 17/20\n",
      "59/59 - 1s - loss: 0.2451 - accuracy: 0.9345 - val_loss: 0.2478 - val_accuracy: 0.9314\n",
      "Epoch 18/20\n",
      "59/59 - 1s - loss: 0.2355 - accuracy: 0.9365 - val_loss: 0.2401 - val_accuracy: 0.9342\n",
      "Epoch 19/20\n",
      "59/59 - 0s - loss: 0.2271 - accuracy: 0.9386 - val_loss: 0.2323 - val_accuracy: 0.9358\n",
      "Epoch 20/20\n",
      "59/59 - 0s - loss: 0.2189 - accuracy: 0.9405 - val_loss: 0.2258 - val_accuracy: 0.9358\n"
     ]
    }
   ],
   "source": [
    "_=model.fit(\n",
    "    x_train,y_train,\n",
    "    validation_data=(x_test,y_test),\n",
    "    epochs=20,batch_size=1024,\n",
    "    verbose=2\n",
    ")"
   ]
  },
  {
   "cell_type": "markdown",
   "metadata": {},
   "source": [
    "# Save the Model"
   ]
  },
  {
   "cell_type": "code",
   "execution_count": 7,
   "metadata": {},
   "outputs": [],
   "source": [
    "model.save('model.h5')"
   ]
  },
  {
   "cell_type": "markdown",
   "metadata": {},
   "source": [
    "# ML Server"
   ]
  },
  {
   "cell_type": "code",
   "execution_count": 8,
   "metadata": {},
   "outputs": [
    {
     "name": "stdout",
     "output_type": "stream",
     "text": [
      "Overwriting ml_server.py\n"
     ]
    }
   ],
   "source": [
    "%%writefile ml_server.py\n",
    "\n",
    "import json\n",
    "import tensorflow as tf\n",
    "import numpy as np\n",
    "import random\n",
    "\n",
    "from flask import Flask,request\n",
    "\n",
    "app=Flask(__name__)\n",
    "\n",
    "model=tf.keras.models.load_model('model.h5')\n",
    "feature_model=tf.keras.models.Model(\n",
    "    model.inputs,\n",
    "    [layer.output for layer in model.layers]\n",
    "\n",
    ")\n",
    "\n",
    "_,(x_test,_)=tf.keras.datasets.mnist.load_data()\n",
    "x_test=x_test/255.\n",
    "\n",
    "def get_prediction():\n",
    "    index = np.random.choice(x_test.shape[0])\n",
    "    image=x_test[index, :, :]\n",
    "    image_arr=np.reshape(image,(1,784))\n",
    "    return feature_model.predict(image_arr),image\n",
    "    \n",
    "@app.route('/',methods=['GET','POST'])\n",
    "def index():\n",
    "    if request.method=='POST':\n",
    "        preds,image=get_prediction()\n",
    "        final_preds=[p.tolist() for p in preds]\n",
    "        return json.dumps({\n",
    "            'prediction':final_preds,\n",
    "            'image':image.tolist()\n",
    "        })\n",
    "    return 'Welcome to the model server!'\n",
    "\n",
    "if __name__=='__main__':\n",
    "    app.run()"
   ]
  },
  {
   "cell_type": "markdown",
   "metadata": {},
   "source": [
    "# Streamlit Web App"
   ]
  },
  {
   "cell_type": "code",
   "execution_count": 18,
   "metadata": {},
   "outputs": [
    {
     "name": "stdout",
     "output_type": "stream",
     "text": [
      "Overwriting app.py\n"
     ]
    }
   ],
   "source": [
    "%%writefile app.py\n",
    "\n",
    "import streamlit as st\n",
    "import json\n",
    "import requests\n",
    "import matplotlib.pyplot as plt\n",
    "import numpy as np\n",
    "\n",
    "URI='http://127.0.0.1:5000'\n",
    "\n",
    "st.title('Neural Network Visualizer')\n",
    "st.sidebar.markdown('## Input Image')\n",
    "\n",
    "if st.button(' Get random prediction'):\n",
    "    response=requests.post(URI,data={})\n",
    "    response=json.loads(response.text)\n",
    "    preds=response.get('prediction')\n",
    "    image=response.get('image')\n",
    "    image=np.reshape(image,(28, 28))\n",
    "   \n",
    "    st.sidebar.image(image,width=150)\n",
    "    \n",
    "    for layer,p in enumerate(preds):\n",
    "        \n",
    "        numbers = np.squeeze(np.array(p))\n",
    "        \n",
    "        plt.figure(figsize=(32,4))\n",
    "        \n",
    "        if layer != 2:\n",
    "            row = 2\n",
    "            col = 16\n",
    "        else:\n",
    "            row =1\n",
    "            col =10\n",
    "        for i,number in enumerate(numbers):\n",
    "            plt.subplot(row,col,i+1)\n",
    "            plt.imshow(number*np.ones((8,8,3)).astype('float32'))\n",
    "            plt.xticks([])\n",
    "            plt.yticks([])\n",
    "            \n",
    "            if layer == 2:\n",
    "                plt.xlabel(str(i),fontsize=40)\n",
    "       \n",
    "        plt.subplots_adjust(wspace=0.05,hspace=0.05)\n",
    "        plt.tight_layout()\n",
    "        st.text('Layer{}'.format(layer+1))\n",
    "        st.pyplot()\n"
   ]
  },
  {
   "cell_type": "code",
   "execution_count": null,
   "metadata": {},
   "outputs": [],
   "source": []
  }
 ],
 "metadata": {
  "kernelspec": {
   "display_name": "Python 3",
   "language": "python",
   "name": "python3"
  },
  "language_info": {
   "codemirror_mode": {
    "name": "ipython",
    "version": 3
   },
   "file_extension": ".py",
   "mimetype": "text/x-python",
   "name": "python",
   "nbconvert_exporter": "python",
   "pygments_lexer": "ipython3",
   "version": "3.8.3"
  }
 },
 "nbformat": 4,
 "nbformat_minor": 4
}
